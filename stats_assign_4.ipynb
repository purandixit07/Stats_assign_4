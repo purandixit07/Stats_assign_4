{
 "cells": [
  {
   "cell_type": "markdown",
   "id": "f4722caf",
   "metadata": {},
   "source": [
    "# Q3"
   ]
  },
  {
   "cell_type": "code",
   "execution_count": 3,
   "id": "4142a1da",
   "metadata": {},
   "outputs": [],
   "source": [
    "import statistics"
   ]
  },
  {
   "cell_type": "code",
   "execution_count": 2,
   "id": "5a85f9cf",
   "metadata": {},
   "outputs": [],
   "source": [
    "sample1 = [10,20,30,40,50]\n",
    "sample2 = [5,10,15,20,25]"
   ]
  },
  {
   "cell_type": "code",
   "execution_count": 4,
   "id": "5fec6482",
   "metadata": {},
   "outputs": [
    {
     "data": {
      "text/plain": [
       "15.811388300841896"
      ]
     },
     "execution_count": 4,
     "metadata": {},
     "output_type": "execute_result"
    }
   ],
   "source": [
    "std1 = statistics.stdev(sample1)\n",
    "std1"
   ]
  },
  {
   "cell_type": "code",
   "execution_count": 5,
   "id": "71ec7692",
   "metadata": {},
   "outputs": [
    {
     "data": {
      "text/plain": [
       "7.905694150420948"
      ]
     },
     "execution_count": 5,
     "metadata": {},
     "output_type": "execute_result"
    }
   ],
   "source": [
    "std2 = statistics.stdev(sample2)\n",
    "std2"
   ]
  },
  {
   "cell_type": "code",
   "execution_count": 7,
   "id": "43781b18",
   "metadata": {},
   "outputs": [
    {
     "data": {
      "text/plain": [
       "4.0"
      ]
     },
     "execution_count": 7,
     "metadata": {},
     "output_type": "execute_result"
    }
   ],
   "source": [
    "f_cal = std1**2/std2**2\n",
    "f_cal"
   ]
  },
  {
   "cell_type": "markdown",
   "id": "5621ea50",
   "metadata": {},
   "source": [
    "Finding f value from F-test table with 95% confidence level,\n",
    "F = 6.39"
   ]
  },
  {
   "cell_type": "markdown",
   "id": "f4401e9c",
   "metadata": {},
   "source": [
    "As F table value is not greater than F- calculated value, we can't reject the null hypothesis."
   ]
  },
  {
   "cell_type": "markdown",
   "id": "ee1854e0",
   "metadata": {},
   "source": [
    "# Q2"
   ]
  },
  {
   "cell_type": "code",
   "execution_count": 41,
   "id": "65aeaed3",
   "metadata": {},
   "outputs": [],
   "source": [
    "group1 = [51,45,33,45,67]\n",
    "group2 = [23,43,23,43,45]\n",
    "group3 = [56,76,74,87,56]"
   ]
  },
  {
   "cell_type": "code",
   "execution_count": 52,
   "id": "a8303f84",
   "metadata": {},
   "outputs": [],
   "source": [
    "l = [group1, group2,group3]\n",
    "k = len(l)\n",
    "n = (len(group1)+len(group2)+len(group3))"
   ]
  },
  {
   "cell_type": "markdown",
   "id": "d918f59a",
   "metadata": {},
   "source": [
    "H0: mu1 = mu2 = mu3\n",
    "Ha: at least one difference among the means"
   ]
  },
  {
   "cell_type": "code",
   "execution_count": 43,
   "id": "0d962589",
   "metadata": {},
   "outputs": [],
   "source": [
    "dfBetween= k-1 \n",
    "dfWithin= n-k \n",
    "dfTotal = dfBetween+dfWithin"
   ]
  },
  {
   "cell_type": "markdown",
   "id": "6066b65f",
   "metadata": {},
   "source": [
    "df1 = 2 and df2 = 12 and alpha = 0.05, Ftable = 3.88"
   ]
  },
  {
   "cell_type": "code",
   "execution_count": 44,
   "id": "5ce3fa27",
   "metadata": {},
   "outputs": [
    {
     "data": {
      "text/plain": [
       "(48.2, 35.4, 69.8)"
      ]
     },
     "execution_count": 44,
     "metadata": {},
     "output_type": "execute_result"
    }
   ],
   "source": [
    "def mean(group):\n",
    "    a=0\n",
    "    for i in group:\n",
    "        a = a+i\n",
    "    return a/len(group)\n",
    "\n",
    "mean(group1), mean(group2),mean(group3)\n",
    "    "
   ]
  },
  {
   "cell_type": "code",
   "execution_count": 45,
   "id": "43f7bc06",
   "metadata": {},
   "outputs": [
    {
     "data": {
      "text/plain": [
       "51.13333333333333"
      ]
     },
     "execution_count": 45,
     "metadata": {},
     "output_type": "execute_result"
    }
   ],
   "source": [
    "l = [group1, group2,group3]\n",
    "a = 0\n",
    "for i in l:\n",
    "    for j in i:\n",
    "        a = a+j\n",
    "\n",
    "muGrand = a/n\n",
    "muGrand"
   ]
  },
  {
   "cell_type": "code",
   "execution_count": 46,
   "id": "a8e9ae20",
   "metadata": {},
   "outputs": [
    {
     "data": {
      "text/plain": [
       "4883.733333333333"
      ]
     },
     "execution_count": 46,
     "metadata": {},
     "output_type": "execute_result"
    }
   ],
   "source": [
    "l = [group1, group2,group3]\n",
    "ssTotal=0\n",
    "for i in l:\n",
    "    for j in i:\n",
    "        ssTotal = ssTotal+(j-muGrand)**2\n",
    "        \n",
    "ssTotal"
   ]
  },
  {
   "cell_type": "code",
   "execution_count": 47,
   "id": "9e58e3fd",
   "metadata": {},
   "outputs": [
    {
     "data": {
      "text/plain": [
       "1860.8"
      ]
     },
     "execution_count": 47,
     "metadata": {},
     "output_type": "execute_result"
    }
   ],
   "source": [
    "l = [group1, group2,group3]\n",
    "ssWithin=0\n",
    "for i in l:\n",
    "    for j in i:\n",
    "        ssWithin = ssWithin+(j-mean(i))**2\n",
    "\n",
    "ssWithin"
   ]
  },
  {
   "cell_type": "code",
   "execution_count": 48,
   "id": "a3b08684",
   "metadata": {},
   "outputs": [
    {
     "data": {
      "text/plain": [
       "3022.9333333333325"
      ]
     },
     "execution_count": 48,
     "metadata": {},
     "output_type": "execute_result"
    }
   ],
   "source": [
    "ssBetween = ssTotal-ssWithin\n",
    "ssBetween"
   ]
  },
  {
   "cell_type": "code",
   "execution_count": 49,
   "id": "b338bf8f",
   "metadata": {},
   "outputs": [
    {
     "data": {
      "text/plain": [
       "1511.4666666666662"
      ]
     },
     "execution_count": 49,
     "metadata": {},
     "output_type": "execute_result"
    }
   ],
   "source": [
    "s2Between = ssBetween/dfBetween\n",
    "s2Between"
   ]
  },
  {
   "cell_type": "code",
   "execution_count": 50,
   "id": "ec5accaa",
   "metadata": {},
   "outputs": [
    {
     "data": {
      "text/plain": [
       "155.06666666666666"
      ]
     },
     "execution_count": 50,
     "metadata": {},
     "output_type": "execute_result"
    }
   ],
   "source": [
    "s2Within = ssWithin/dfWithin\n",
    "s2Within"
   ]
  },
  {
   "cell_type": "code",
   "execution_count": 51,
   "id": "c6c5e559",
   "metadata": {},
   "outputs": [
    {
     "data": {
      "text/plain": [
       "9.747205503009456"
      ]
     },
     "execution_count": 51,
     "metadata": {},
     "output_type": "execute_result"
    }
   ],
   "source": [
    "Fcalc = s2Between/s2Within\n",
    "Fcalc"
   ]
  },
  {
   "cell_type": "markdown",
   "id": "d287fb3f",
   "metadata": {},
   "source": [
    "as Fcalc> Ftable, we reject the null hypothesis"
   ]
  },
  {
   "cell_type": "markdown",
   "id": "7ea6ec3f",
   "metadata": {},
   "source": [
    "# Q1"
   ]
  },
  {
   "cell_type": "code",
   "execution_count": null,
   "id": "cd7605a7",
   "metadata": {},
   "outputs": [],
   "source": []
  }
 ],
 "metadata": {
  "kernelspec": {
   "display_name": "Python 3",
   "language": "python",
   "name": "python3"
  },
  "language_info": {
   "codemirror_mode": {
    "name": "ipython",
    "version": 3
   },
   "file_extension": ".py",
   "mimetype": "text/x-python",
   "name": "python",
   "nbconvert_exporter": "python",
   "pygments_lexer": "ipython3",
   "version": "3.8.8"
  }
 },
 "nbformat": 4,
 "nbformat_minor": 5
}
